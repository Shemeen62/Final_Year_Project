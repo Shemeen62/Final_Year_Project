{
 "cells": [
  {
   "cell_type": "markdown",
   "id": "af1b1b87",
   "metadata": {},
   "source": [
    "# Grid Search Method"
   ]
  },
  {
   "cell_type": "code",
   "execution_count": null,
   "id": "d0f1b98a",
   "metadata": {},
   "outputs": [],
   "source": [
    "import warnings\n",
    "warnings.filterwarnings(\"ignore\")"
   ]
  },
  {
   "cell_type": "code",
   "execution_count": null,
   "id": "003fb021",
   "metadata": {},
   "outputs": [],
   "source": [
    "import pandas as pd\n",
    "import numpy as np\n",
    "import yfinance as yf\n",
    "import matplotlib.pyplot as plt\n",
    "from statsmodels.tsa.arima.model import ARIMA\n",
    "from sklearn.metrics import mean_squared_error\n",
    "from math import sqrt\n",
    "\n",
    "# Fetching the stock data using yfinance\n",
    "ticker = yf.Ticker('AAPL')\n",
    "df = ticker.history(interval='1d', start='2013-01-01')\n",
    "\n",
    "# Selecting the 'Close' column for prediction\n",
    "data = df['Close'].values\n",
    "\n",
    "# Splitting the data into training and testing sets\n",
    "train_size = int(len(data) * 0.8)\n",
    "train, test = data[:train_size], data[train_size:]\n",
    "\n",
    "# Function to fit ARIMA model and make predictions\n",
    "def fit_arima(train_data, order):\n",
    "    history = [x for x in train_data]\n",
    "    predictions = []\n",
    "    for t in range(len(test)):\n",
    "        model = ARIMA(history, order=order)\n",
    "        model_fit = model.fit()\n",
    "        yhat = model_fit.forecast()[0]\n",
    "        predictions.append(yhat)\n",
    "        history.append(test[t])\n",
    "    # calculate out of sample error\n",
    "    rmse = sqrt(mean_squared_error(test, predictions))\n",
    "    return rmse\n",
    "\n",
    "# Evaluate combinations of p, d, and q values for an ARIMA model\n",
    "def evaluate_models(dataset, p_values, d_values, q_values):\n",
    "    dataset = dataset.astype('float32')\n",
    "    best_score, best_cfg = float(\"inf\"), None\n",
    "    for p in p_values:\n",
    "        for d in d_values:\n",
    "            for q in q_values:\n",
    "                order = (p, d, q)\n",
    "                mse = fit_arima(train, order)\n",
    "                if mse < best_score:\n",
    "                    best_score, best_cfg = mse, order\n",
    "                    print('ARIMA=%s RMSE=%.3f' % (order, mse) ,\" Improved\")\n",
    "                else:\n",
    "                    print('ARIMA=%s RMSE=%.3f' % (order, mse))\n",
    "    print('Best ARIMA=%s RMSE=%.3f' % (best_cfg, best_score))\n",
    "\n",
    "# Define the range of p, d, and q values for hyperparameter tuning\n",
    "p_values = range(0, 3)\n",
    "d_values = range(0, 2)\n",
    "q_values = range(0, 3)\n",
    "\n",
    "# Perform hyperparameter tuning and evaluate ARIMA models\n",
    "evaluate_models(df, p_values, d_values, q_values)"
   ]
  },
  {
   "cell_type": "code",
   "execution_count": null,
   "id": "ba04f5d6",
   "metadata": {},
   "outputs": [],
   "source": []
  },
  {
   "cell_type": "code",
   "execution_count": null,
   "id": "88c1f0b0",
   "metadata": {},
   "outputs": [],
   "source": []
  }
 ],
 "metadata": {
  "kernelspec": {
   "display_name": "Python 3 (ipykernel)",
   "language": "python",
   "name": "python3"
  },
  "language_info": {
   "codemirror_mode": {
    "name": "ipython",
    "version": 3
   },
   "file_extension": ".py",
   "mimetype": "text/x-python",
   "name": "python",
   "nbconvert_exporter": "python",
   "pygments_lexer": "ipython3",
   "version": "3.9.12"
  }
 },
 "nbformat": 4,
 "nbformat_minor": 5
}
