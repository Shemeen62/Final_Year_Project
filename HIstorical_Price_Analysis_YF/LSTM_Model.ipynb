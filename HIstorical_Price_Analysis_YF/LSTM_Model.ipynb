{
 "cells": [
  {
   "cell_type": "markdown",
   "id": "94d660e1",
   "metadata": {},
   "source": [
    "# LSTM Model for stock price prediction (Long Term)"
   ]
  },
  {
   "cell_type": "code",
   "execution_count": 1,
   "id": "4f52f0cf",
   "metadata": {},
   "outputs": [
    {
     "name": "stdout",
     "output_type": "stream",
     "text": [
      "Epoch 1/100\n",
      "34/34 [==============================] - 24s 540ms/step - loss: 0.0488\n",
      "Epoch 2/100\n",
      "34/34 [==============================] - 19s 560ms/step - loss: 0.0039\n",
      "Epoch 3/100\n",
      "34/34 [==============================] - 19s 539ms/step - loss: 0.0028\n",
      "Epoch 4/100\n",
      "34/34 [==============================] - 17s 515ms/step - loss: 0.0023\n",
      "Epoch 5/100\n",
      "34/34 [==============================] - 17s 514ms/step - loss: 0.0020\n",
      "Epoch 6/100\n",
      "34/34 [==============================] - 21s 625ms/step - loss: 0.0023\n",
      "Epoch 7/100\n",
      "34/34 [==============================] - 19s 563ms/step - loss: 0.0018\n",
      "Epoch 8/100\n",
      "34/34 [==============================] - 18s 538ms/step - loss: 0.0020\n",
      "Epoch 9/100\n",
      "34/34 [==============================] - 22s 663ms/step - loss: 0.0019\n",
      "Epoch 10/100\n",
      "34/34 [==============================] - 30s 876ms/step - loss: 0.0026\n",
      "Epoch 11/100\n",
      "34/34 [==============================] - 24s 695ms/step - loss: 0.0036\n",
      "Epoch 12/100\n",
      "34/34 [==============================] - 22s 646ms/step - loss: 0.0021\n",
      "Epoch 13/100\n",
      "34/34 [==============================] - 19s 552ms/step - loss: 0.0016\n",
      "Epoch 14/100\n",
      "34/34 [==============================] - 19s 549ms/step - loss: 0.0020\n",
      "Epoch 15/100\n",
      "34/34 [==============================] - 19s 552ms/step - loss: 0.0018\n",
      "Epoch 16/100\n",
      "34/34 [==============================] - 19s 560ms/step - loss: 0.0024\n",
      "Epoch 17/100\n",
      "34/34 [==============================] - 17s 511ms/step - loss: 0.0019\n",
      "Epoch 18/100\n",
      "34/34 [==============================] - 18s 517ms/step - loss: 0.0014\n",
      "Epoch 19/100\n",
      "34/34 [==============================] - 17s 511ms/step - loss: 0.0018\n",
      "Epoch 20/100\n",
      "34/34 [==============================] - 17s 511ms/step - loss: 0.0021\n",
      "Epoch 21/100\n",
      "34/34 [==============================] - 17s 509ms/step - loss: 0.0018\n",
      "Epoch 22/100\n",
      "34/34 [==============================] - 17s 510ms/step - loss: 0.0019\n",
      "Epoch 23/100\n",
      "34/34 [==============================] - 17s 509ms/step - loss: 0.0017\n",
      "Epoch 24/100\n",
      "34/34 [==============================] - 18s 526ms/step - loss: 0.0015\n",
      "Epoch 25/100\n",
      "34/34 [==============================] - 18s 537ms/step - loss: 0.0016\n",
      "Epoch 26/100\n",
      "34/34 [==============================] - 19s 545ms/step - loss: 0.0014\n",
      "Epoch 27/100\n",
      "34/34 [==============================] - 17s 512ms/step - loss: 0.0017\n",
      "Epoch 28/100\n",
      "34/34 [==============================] - 18s 521ms/step - loss: 0.0013\n",
      "Epoch 29/100\n",
      "34/34 [==============================] - 18s 530ms/step - loss: 0.0015\n",
      "Epoch 30/100\n",
      "34/34 [==============================] - 17s 511ms/step - loss: 0.0015\n",
      "Epoch 31/100\n",
      "34/34 [==============================] - 17s 513ms/step - loss: 0.0014\n",
      "Epoch 32/100\n",
      "34/34 [==============================] - 17s 511ms/step - loss: 0.0011\n",
      "Epoch 33/100\n",
      "34/34 [==============================] - 17s 507ms/step - loss: 0.0012\n",
      "Epoch 34/100\n",
      "34/34 [==============================] - 17s 507ms/step - loss: 0.0014\n",
      "Epoch 35/100\n",
      "34/34 [==============================] - 17s 511ms/step - loss: 0.0012\n",
      "Epoch 36/100\n",
      "34/34 [==============================] - 18s 515ms/step - loss: 0.0013\n",
      "Epoch 37/100\n",
      "34/34 [==============================] - 17s 512ms/step - loss: 0.0012\n",
      "Epoch 38/100\n",
      "34/34 [==============================] - 18s 516ms/step - loss: 0.0014\n",
      "Epoch 39/100\n",
      "34/34 [==============================] - 17s 514ms/step - loss: 0.0012\n",
      "Epoch 40/100\n",
      "34/34 [==============================] - 18s 518ms/step - loss: 0.0011\n",
      "Epoch 41/100\n",
      "34/34 [==============================] - 17s 512ms/step - loss: 0.0012\n",
      "Epoch 42/100\n",
      "34/34 [==============================] - 17s 512ms/step - loss: 0.0016\n",
      "Epoch 43/100\n",
      "34/34 [==============================] - 18s 514ms/step - loss: 0.0016\n",
      "Epoch 44/100\n",
      "34/34 [==============================] - 17s 515ms/step - loss: 0.0012\n",
      "Epoch 45/100\n",
      "34/34 [==============================] - 17s 514ms/step - loss: 0.0011\n",
      "Epoch 46/100\n",
      "34/34 [==============================] - 18s 530ms/step - loss: 0.0012\n",
      "Epoch 47/100\n",
      "34/34 [==============================] - 18s 515ms/step - loss: 0.0012\n",
      "Epoch 48/100\n",
      "34/34 [==============================] - 19s 565ms/step - loss: 0.0011\n",
      "Epoch 49/100\n",
      "34/34 [==============================] - 19s 555ms/step - loss: 0.0011\n",
      "Epoch 50/100\n",
      "34/34 [==============================] - 20s 577ms/step - loss: 0.0013\n",
      "Epoch 51/100\n",
      "34/34 [==============================] - 19s 571ms/step - loss: 0.0012\n",
      "Epoch 52/100\n",
      "34/34 [==============================] - 18s 543ms/step - loss: 0.0011\n",
      "Epoch 53/100\n",
      "34/34 [==============================] - 20s 595ms/step - loss: 9.0406e-04\n",
      "Epoch 54/100\n",
      "34/34 [==============================] - 20s 599ms/step - loss: 0.0010\n",
      "Epoch 55/100\n",
      "34/34 [==============================] - 20s 576ms/step - loss: 0.0012\n",
      "Epoch 56/100\n",
      "34/34 [==============================] - 20s 592ms/step - loss: 0.0011\n",
      "Epoch 57/100\n",
      "34/34 [==============================] - 19s 558ms/step - loss: 0.0011\n",
      "Epoch 58/100\n",
      "34/34 [==============================] - 18s 531ms/step - loss: 0.0011\n",
      "Epoch 59/100\n",
      "34/34 [==============================] - 18s 520ms/step - loss: 9.9067e-04\n",
      "Epoch 60/100\n",
      "34/34 [==============================] - 18s 518ms/step - loss: 9.4681e-04\n",
      "Epoch 61/100\n",
      "34/34 [==============================] - 18s 517ms/step - loss: 0.0012\n",
      "Epoch 62/100\n",
      "34/34 [==============================] - 18s 531ms/step - loss: 0.0011\n",
      "Epoch 63/100\n",
      "34/34 [==============================] - 18s 525ms/step - loss: 8.4692e-04\n",
      "Epoch 64/100\n",
      "34/34 [==============================] - 18s 521ms/step - loss: 0.0010\n",
      "Epoch 65/100\n",
      "34/34 [==============================] - 18s 518ms/step - loss: 0.0012\n",
      "Epoch 66/100\n",
      "34/34 [==============================] - 18s 515ms/step - loss: 9.4191e-04\n",
      "Epoch 67/100\n",
      "34/34 [==============================] - 18s 518ms/step - loss: 0.0013\n",
      "Epoch 68/100\n",
      "34/34 [==============================] - 18s 516ms/step - loss: 0.0011\n",
      "Epoch 69/100\n",
      "34/34 [==============================] - 17s 513ms/step - loss: 0.0010\n",
      "Epoch 70/100\n",
      "34/34 [==============================] - 17s 515ms/step - loss: 8.0461e-04\n",
      "Epoch 71/100\n",
      "34/34 [==============================] - 19s 569ms/step - loss: 9.0136e-04\n",
      "Epoch 72/100\n",
      "34/34 [==============================] - 18s 516ms/step - loss: 9.0415e-04\n",
      "Epoch 73/100\n",
      "34/34 [==============================] - 18s 524ms/step - loss: 9.9690e-04\n",
      "Epoch 74/100\n",
      "34/34 [==============================] - 18s 522ms/step - loss: 0.0012\n",
      "Epoch 75/100\n",
      "34/34 [==============================] - 18s 523ms/step - loss: 0.0012\n",
      "Epoch 76/100\n",
      "34/34 [==============================] - 18s 515ms/step - loss: 0.0010\n",
      "Epoch 77/100\n",
      "34/34 [==============================] - 18s 513ms/step - loss: 9.0069e-04\n",
      "Epoch 78/100\n",
      "34/34 [==============================] - 18s 515ms/step - loss: 9.5018e-04\n",
      "Epoch 79/100\n",
      "34/34 [==============================] - 17s 515ms/step - loss: 8.3349e-04\n",
      "Epoch 80/100\n",
      "34/34 [==============================] - 17s 511ms/step - loss: 8.9648e-04\n",
      "Epoch 81/100\n",
      "34/34 [==============================] - 17s 514ms/step - loss: 0.0012\n",
      "Epoch 82/100\n",
      "34/34 [==============================] - 18s 515ms/step - loss: 9.1048e-04\n",
      "Epoch 83/100\n",
      "34/34 [==============================] - 18s 518ms/step - loss: 7.9924e-04\n",
      "Epoch 84/100\n",
      "34/34 [==============================] - 18s 518ms/step - loss: 8.3114e-04\n",
      "Epoch 85/100\n",
      "34/34 [==============================] - 18s 519ms/step - loss: 8.6129e-04\n",
      "Epoch 86/100\n",
      "34/34 [==============================] - 18s 516ms/step - loss: 8.8767e-04\n",
      "Epoch 87/100\n",
      "34/34 [==============================] - 18s 518ms/step - loss: 8.2387e-04\n",
      "Epoch 88/100\n",
      "34/34 [==============================] - 18s 517ms/step - loss: 8.9659e-04\n",
      "Epoch 89/100\n",
      "34/34 [==============================] - 18s 516ms/step - loss: 0.0012\n",
      "Epoch 90/100\n",
      "34/34 [==============================] - 18s 516ms/step - loss: 0.0010\n",
      "Epoch 91/100\n",
      "34/34 [==============================] - 17s 513ms/step - loss: 7.7982e-04\n",
      "Epoch 92/100\n",
      "34/34 [==============================] - 17s 492ms/step - loss: 8.2619e-04\n",
      "Epoch 93/100\n",
      "34/34 [==============================] - 17s 493ms/step - loss: 8.4083e-04\n",
      "Epoch 94/100\n",
      "34/34 [==============================] - 17s 491ms/step - loss: 7.6596e-04\n",
      "Epoch 95/100\n",
      "34/34 [==============================] - 17s 495ms/step - loss: 7.9421e-04\n",
      "Epoch 96/100\n",
      "34/34 [==============================] - 17s 496ms/step - loss: 9.3834e-04\n",
      "Epoch 97/100\n"
     ]
    },
    {
     "name": "stdout",
     "output_type": "stream",
     "text": [
      "34/34 [==============================] - 17s 505ms/step - loss: 8.3014e-04\n",
      "Epoch 98/100\n",
      "34/34 [==============================] - 17s 498ms/step - loss: 8.2841e-04\n",
      "Epoch 99/100\n",
      "34/34 [==============================] - 17s 505ms/step - loss: 9.2696e-04\n",
      "Epoch 100/100\n",
      "34/34 [==============================] - 17s 489ms/step - loss: 8.6518e-04\n"
     ]
    },
    {
     "name": "stderr",
     "output_type": "stream",
     "text": [
      "C:\\Users\\Shemeen62\\anaconda3\\lib\\site-packages\\keras\\src\\engine\\training.py:3000: UserWarning: You are saving your model as an HDF5 file via `model.save()`. This file format is considered legacy. We recommend using instead the native Keras format, e.g. `model.save('my_model.keras')`.\n",
      "  saving_api.save_model(\n"
     ]
    },
    {
     "name": "stdout",
     "output_type": "stream",
     "text": [
      "8/8 [==============================] - 3s 181ms/step\n"
     ]
    },
    {
     "data": {
      "text/plain": [
       "<matplotlib.legend.Legend at 0x11eddd1e280>"
      ]
     },
     "execution_count": 1,
     "metadata": {},
     "output_type": "execute_result"
    },
    {
     "data": {
      "image/png": "[encoded data removed]",
      "text/plain": [
       "<Figure size 1152x576 with 1 Axes>"
      ]
     },
     "metadata": {
      "needs_background": "light"
     },
     "output_type": "display_data"
    }
   ],
   "source": [
    "import pandas as pd\n",
    "import numpy as np\n",
    "import yfinance as yf \n",
    "import matplotlib.pyplot as plt\n",
    "from sklearn.preprocessing import MinMaxScaler\n",
    "from keras.models import Sequential, load_model\n",
    "from keras.layers import LSTM, Dense, Dropout\n",
    "\n",
    "tk = 'AAPL'\n",
    "ticker = yf.Ticker(tk)\n",
    "df = ticker.history(interval='1d', start='2018-01-01')\n",
    "\n",
    "df = df['Close'].values\n",
    "df = df.reshape(-1, 1)\n",
    "\n",
    "\n",
    "dataset_train = np.array(df[:int(df.shape[0]*0.8)])\n",
    "dataset_test = np.array(df[int(df.shape[0]*0.8):])\n",
    "\n",
    "scaler = MinMaxScaler(feature_range=(0,1))\n",
    "dataset_train = scaler.fit_transform(dataset_train)\n",
    "dataset_test = scaler.transform(dataset_test)\n",
    "\n",
    "\n",
    "def create_dataset(df):\n",
    "    x = []\n",
    "    y = []\n",
    "    for i in range(50, df.shape[0]):\n",
    "        x.append(df[i-50:i, 0])\n",
    "        y.append(df[i, 0])\n",
    "    x = np.array(x)\n",
    "    y = np.array(y)\n",
    "    return x,y\n",
    "\n",
    "\n",
    "x_train, y_train = create_dataset(dataset_train)\n",
    "x_test, y_test = create_dataset(dataset_test)\n",
    "\n",
    "\n",
    "x_train = np.reshape(x_train, (x_train.shape[0], x_train.shape[1], 1))\n",
    "x_test = np.reshape(x_test, (x_test.shape[0], x_test.shape[1], 1))\n",
    "\n",
    "\n",
    "model = Sequential()\n",
    "model.add(LSTM(units=250, return_sequences=True, input_shape=(x_train.shape[1], 1)))\n",
    "model.add(Dropout(0.2))\n",
    "model.add(LSTM(units=250,return_sequences=True))\n",
    "model.add(Dropout(0.2))\n",
    "model.add(LSTM(units=250,return_sequences=True))\n",
    "model.add(Dropout(0.2))\n",
    "model.add(LSTM(units=250))\n",
    "model.add(Dropout(0.2))\n",
    "model.add(Dense(units=1))\n",
    "\n",
    "\n",
    "# x_train = np.reshape(x_train, (x_train.shape[0], x_train.shape[1], 1))\n",
    "# x_test = np.reshape(x_test, (x_test.shape[0], x_test.shape[1], 1))\n",
    "\n",
    "model.compile(loss='mean_squared_error', optimizer='adam')\n",
    "\n",
    "model.fit(x_train, y_train, epochs=100, batch_size=32)\n",
    "model.save(tk+'_stock_prediction.h5')\n",
    "\n",
    "model = load_model(tk+'_stock_prediction.h5')\n",
    "\n",
    "\n",
    "predictions = model.predict(x_test)\n",
    "predictions = scaler.inverse_transform(predictions)\n",
    "y_test_scaled = scaler.inverse_transform(y_test.reshape(-1, 1))\n",
    "\n",
    "fig, ax = plt.subplots(figsize=(16,8))\n",
    "ax.set_facecolor('#000041')\n",
    "ax.plot(y_test_scaled, color='red', label='Original price')\n",
    "plt.plot(predictions, color='cyan', label='Predicted price')\n",
    "plt.legend()"
   ]
  },
  {
   "cell_type": "code",
   "execution_count": 2,
   "id": "e83dbf77",
   "metadata": {},
   "outputs": [
    {
     "name": "stdout",
     "output_type": "stream",
     "text": [
      "Mean Squared Error (MSE): 11.284722585035869\n",
      "Mean Absolute Error (MAE): 2.6114609816978716\n"
     ]
    }
   ],
   "source": [
    "from sklearn.metrics import mean_squared_error, mean_absolute_error\n",
    "from sklearn.metrics import mean_absolute_percentage_error\n",
    "\n",
    "# Calculate mean squared error (MSE) and mean absolute error (MAE)\n",
    "mse = mean_squared_error(y_test_scaled, predictions)\n",
    "mae = mean_absolute_error(y_test_scaled, predictions)\n",
    "\n",
    "print(\"Mean Squared Error (MSE):\", mse)\n",
    "print(\"Mean Absolute Error (MAE):\", mae)"
   ]
  },
  {
   "cell_type": "code",
   "execution_count": 8,
   "id": "344feda3",
   "metadata": {},
   "outputs": [
    {
     "data": {
      "text/plain": [
       "array([141.4480896])"
      ]
     },
     "execution_count": 8,
     "metadata": {},
     "output_type": "execute_result"
    }
   ],
   "source": [
    "y_test_scaled[100]"
   ]
  },
  {
   "cell_type": "code",
   "execution_count": 9,
   "id": "7dbc7d68",
   "metadata": {},
   "outputs": [
    {
     "data": {
      "text/plain": [
       "array([141.47601], dtype=float32)"
      ]
     },
     "execution_count": 9,
     "metadata": {},
     "output_type": "execute_result"
    }
   ],
   "source": [
    "predictions[100]"
   ]
  },
  {
   "cell_type": "code",
   "execution_count": null,
   "id": "d25e6825",
   "metadata": {},
   "outputs": [],
   "source": []
  }
 ],
 "metadata": {
  "kernelspec": {
   "display_name": "Python 3 (ipykernel)",
   "language": "python",
   "name": "python3"
  },
  "language_info": {
   "codemirror_mode": {
    "name": "ipython",
    "version": 3
   },
   "file_extension": ".py",
   "mimetype": "text/x-python",
   "name": "python",
   "nbconvert_exporter": "python",
   "pygments_lexer": "ipython3",
   "version": "3.9.12"
  }
 },
 "nbformat": 4,
 "nbformat_minor": 5
}
